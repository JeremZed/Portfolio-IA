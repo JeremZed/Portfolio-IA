{
 "cells": [
  {
   "cell_type": "markdown",
   "id": "9b9c8bd7-2b78-43e7-bdb0-e2bd97937b72",
   "metadata": {},
   "source": [
    "# Classification de photos de légumes"
   ]
  },
  {
   "cell_type": "markdown",
   "id": "cb5da767-6c0b-4b32-8baf-4e42deb4ef1c",
   "metadata": {},
   "source": [
    "## Problèmatique"
   ]
  },
  {
   "cell_type": "markdown",
   "id": "1633d179-8af5-4a81-a32d-ca06f7580708",
   "metadata": {},
   "source": [
    "Le projet consiste à obtenir un modèle capable de classer une photo de légume.<br />"
   ]
  },
  {
   "cell_type": "markdown",
   "id": "a96117d6-418b-4859-a46f-94a9e9b52ba5",
   "metadata": {},
   "source": [
    "## Les données"
   ]
  },
  {
   "cell_type": "markdown",
   "id": "582ce976-b67c-49de-968b-7ded44614a59",
   "metadata": {},
   "source": [
    "Les données utilisées pour ce projet proviennent d'un dataset trouvé sur Kaggle.<br />\n",
    "Source : https://www.kaggle.com/datasets/misrakahmed/vegetable-image-dataset/data<br />\n",
    "Le dataset a été téléchargé à la main au préalable, puis déposé dans le dossier resources."
   ]
  },
  {
   "cell_type": "markdown",
   "id": "c7c650cc-94df-4a23-a348-f7be1c8e5ef2",
   "metadata": {},
   "source": [
    "## Modules"
   ]
  },
  {
   "cell_type": "code",
   "execution_count": 1,
   "id": "caedbb00-82cc-4dcb-84c9-559c2f3bf8f6",
   "metadata": {},
   "outputs": [],
   "source": [
    "import nnz\n",
    "\n",
    "w = nnz.Workspace()"
   ]
  },
  {
   "cell_type": "code",
   "execution_count": 2,
   "id": "86c22224-d5a6-4d49-afb5-53fc1c736487",
   "metadata": {},
   "outputs": [],
   "source": [
    "X_train, y_train, X_val, y_val, X_test, y_test = w.split_folders(\"./resources/classes\", \"./resources\", verbose=0, size_train=0.6, size_val=0.15, size_test=0.25, resize=(128,128))"
   ]
  },
  {
   "cell_type": "code",
   "execution_count": 3,
   "id": "cddf01fe-caac-4213-b366-f95a1ca51437",
   "metadata": {},
   "outputs": [
    {
     "data": {
      "text/html": [
       "<div>\n",
       "<style scoped>\n",
       "    .dataframe tbody tr th:only-of-type {\n",
       "        vertical-align: middle;\n",
       "    }\n",
       "\n",
       "    .dataframe tbody tr th {\n",
       "        vertical-align: top;\n",
       "    }\n",
       "\n",
       "    .dataframe thead th {\n",
       "        text-align: right;\n",
       "    }\n",
       "</style>\n",
       "<table border=\"1\" class=\"dataframe\">\n",
       "  <thead>\n",
       "    <tr style=\"text-align: right;\">\n",
       "      <th></th>\n",
       "      <th>name</th>\n",
       "      <th>train_count</th>\n",
       "      <th>val_count</th>\n",
       "      <th>test_count</th>\n",
       "    </tr>\n",
       "  </thead>\n",
       "  <tbody>\n",
       "    <tr>\n",
       "      <th>0</th>\n",
       "      <td>Bitter_Gourd</td>\n",
       "      <td>840</td>\n",
       "      <td>210</td>\n",
       "      <td>350</td>\n",
       "    </tr>\n",
       "    <tr>\n",
       "      <th>1</th>\n",
       "      <td>Cauliflower</td>\n",
       "      <td>840</td>\n",
       "      <td>210</td>\n",
       "      <td>350</td>\n",
       "    </tr>\n",
       "    <tr>\n",
       "      <th>2</th>\n",
       "      <td>Papaya</td>\n",
       "      <td>840</td>\n",
       "      <td>210</td>\n",
       "      <td>350</td>\n",
       "    </tr>\n",
       "    <tr>\n",
       "      <th>3</th>\n",
       "      <td>Tomato</td>\n",
       "      <td>840</td>\n",
       "      <td>210</td>\n",
       "      <td>350</td>\n",
       "    </tr>\n",
       "    <tr>\n",
       "      <th>4</th>\n",
       "      <td>Brinjal</td>\n",
       "      <td>840</td>\n",
       "      <td>210</td>\n",
       "      <td>350</td>\n",
       "    </tr>\n",
       "    <tr>\n",
       "      <th>5</th>\n",
       "      <td>Carrot</td>\n",
       "      <td>840</td>\n",
       "      <td>210</td>\n",
       "      <td>350</td>\n",
       "    </tr>\n",
       "    <tr>\n",
       "      <th>6</th>\n",
       "      <td>Capsicum</td>\n",
       "      <td>840</td>\n",
       "      <td>210</td>\n",
       "      <td>350</td>\n",
       "    </tr>\n",
       "    <tr>\n",
       "      <th>7</th>\n",
       "      <td>Potato</td>\n",
       "      <td>840</td>\n",
       "      <td>210</td>\n",
       "      <td>350</td>\n",
       "    </tr>\n",
       "    <tr>\n",
       "      <th>8</th>\n",
       "      <td>Bean</td>\n",
       "      <td>840</td>\n",
       "      <td>210</td>\n",
       "      <td>350</td>\n",
       "    </tr>\n",
       "    <tr>\n",
       "      <th>9</th>\n",
       "      <td>Bottle_Gourd</td>\n",
       "      <td>840</td>\n",
       "      <td>210</td>\n",
       "      <td>350</td>\n",
       "    </tr>\n",
       "    <tr>\n",
       "      <th>10</th>\n",
       "      <td>Cucumber</td>\n",
       "      <td>840</td>\n",
       "      <td>210</td>\n",
       "      <td>350</td>\n",
       "    </tr>\n",
       "    <tr>\n",
       "      <th>11</th>\n",
       "      <td>Broccoli</td>\n",
       "      <td>840</td>\n",
       "      <td>210</td>\n",
       "      <td>350</td>\n",
       "    </tr>\n",
       "    <tr>\n",
       "      <th>12</th>\n",
       "      <td>Cabbage</td>\n",
       "      <td>840</td>\n",
       "      <td>210</td>\n",
       "      <td>350</td>\n",
       "    </tr>\n",
       "    <tr>\n",
       "      <th>13</th>\n",
       "      <td>Pumpkin</td>\n",
       "      <td>840</td>\n",
       "      <td>210</td>\n",
       "      <td>350</td>\n",
       "    </tr>\n",
       "    <tr>\n",
       "      <th>14</th>\n",
       "      <td>Radish</td>\n",
       "      <td>840</td>\n",
       "      <td>210</td>\n",
       "      <td>350</td>\n",
       "    </tr>\n",
       "  </tbody>\n",
       "</table>\n",
       "</div>"
      ],
      "text/plain": [
       "            name  train_count  val_count  test_count\n",
       "0   Bitter_Gourd          840        210         350\n",
       "1    Cauliflower          840        210         350\n",
       "2         Papaya          840        210         350\n",
       "3         Tomato          840        210         350\n",
       "4        Brinjal          840        210         350\n",
       "5         Carrot          840        210         350\n",
       "6       Capsicum          840        210         350\n",
       "7         Potato          840        210         350\n",
       "8           Bean          840        210         350\n",
       "9   Bottle_Gourd          840        210         350\n",
       "10      Cucumber          840        210         350\n",
       "11      Broccoli          840        210         350\n",
       "12       Cabbage          840        210         350\n",
       "13       Pumpkin          840        210         350\n",
       "14        Radish          840        210         350"
      ]
     },
     "execution_count": 3,
     "metadata": {},
     "output_type": "execute_result"
    }
   ],
   "source": [
    "w.get_classes()"
   ]
  },
  {
   "cell_type": "code",
   "execution_count": 4,
   "id": "a2b28be0-ca36-4501-a352-a0aae5094fa6",
   "metadata": {},
   "outputs": [
    {
     "data": {
      "text/plain": [
       "(12600, 128, 128, 3)"
      ]
     },
     "execution_count": 4,
     "metadata": {},
     "output_type": "execute_result"
    }
   ],
   "source": [
    "X_train.shape"
   ]
  },
  {
   "cell_type": "code",
   "execution_count": 5,
   "id": "bf9713a2-0fc3-402a-ab6c-7390cbcb9cc6",
   "metadata": {},
   "outputs": [
    {
     "data": {
      "text/plain": [
       "(12600,)"
      ]
     },
     "execution_count": 5,
     "metadata": {},
     "output_type": "execute_result"
    }
   ],
   "source": [
    "y_train.shape"
   ]
  },
  {
   "cell_type": "code",
   "execution_count": 6,
   "id": "bcb68e9f-73d0-46c2-9d97-327a34c229d5",
   "metadata": {},
   "outputs": [
    {
     "data": {
      "text/plain": [
       "array(['Papaya', 'Bitter_Gourd', 'Potato', 'Bitter_Gourd', 'Potato',\n",
       "       'Papaya', 'Carrot', 'Cabbage', 'Cucumber', 'Cauliflower'],\n",
       "      dtype='<U12')"
      ]
     },
     "execution_count": 6,
     "metadata": {},
     "output_type": "execute_result"
    }
   ],
   "source": [
    "y_train[:10]"
   ]
  },
  {
   "cell_type": "code",
   "execution_count": 12,
   "id": "81bd6b06-6767-4272-ba91-551c60b59152",
   "metadata": {},
   "outputs": [
    {
     "data": {
      "text/plain": [
       "(array(['Bean', 'Bitter_Gourd', 'Bottle_Gourd', 'Brinjal', 'Broccoli',\n",
       "        'Cabbage', 'Capsicum', 'Carrot', 'Cauliflower', 'Cucumber',\n",
       "        'Papaya', 'Potato', 'Pumpkin', 'Radish', 'Tomato'], dtype='<U12'),\n",
       " array([840, 840, 840, 840, 840, 840, 840, 840, 840, 840, 840, 840, 840,\n",
       "        840, 840]))"
      ]
     },
     "execution_count": 12,
     "metadata": {},
     "output_type": "execute_result"
    }
   ],
   "source": [
    "import cv2\n",
    "import numpy as np\n",
    "# cv2.imshow('image', X_train[6])\n",
    "# cv2.waitKey(0)\n",
    "# cv2.destroyAllWindows()\n",
    "np.unique(y_train, return_counts=True)"
   ]
  }
 ],
 "metadata": {
  "kernelspec": {
   "display_name": "Python 3 (ipykernel)",
   "language": "python",
   "name": "python3"
  },
  "language_info": {
   "codemirror_mode": {
    "name": "ipython",
    "version": 3
   },
   "file_extension": ".py",
   "mimetype": "text/x-python",
   "name": "python",
   "nbconvert_exporter": "python",
   "pygments_lexer": "ipython3",
   "version": "3.12.3"
  }
 },
 "nbformat": 4,
 "nbformat_minor": 5
}
