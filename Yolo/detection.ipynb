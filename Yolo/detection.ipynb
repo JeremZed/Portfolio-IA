{
 "cells": [
  {
   "cell_type": "markdown",
   "id": "5912d00d-702e-4c2e-97db-343bebeb48c9",
   "metadata": {},
   "source": [
    "# Detection visage"
   ]
  },
  {
   "cell_type": "code",
   "execution_count": 1,
   "id": "437a7cf5-7378-4483-9429-e30f2589c983",
   "metadata": {},
   "outputs": [
    {
     "name": "stdout",
     "output_type": "stream",
     "text": [
      "Ultralytics YOLOv8.2.34 🚀 Python-3.12.3 torch-2.3.0+cu121 CUDA:0 (NVIDIA GeForce RTX 2060, 5919MiB)\n",
      "Setup complete ✅ (24 CPUs, 31.3 GB RAM, 356.6/915.3 GB disk)\n"
     ]
    }
   ],
   "source": [
    "import ultralytics\n",
    "from ultralytics import YOLO\n",
    "\n",
    "ultralytics.checks()"
   ]
  },
  {
   "cell_type": "markdown",
   "id": "f688ee02-63c0-4d38-80c3-261da60dfea3",
   "metadata": {},
   "source": [
    "## Création du modèle"
   ]
  },
  {
   "cell_type": "markdown",
   "id": "120415eb-6952-43ae-86d3-5fca6505cfd0",
   "metadata": {},
   "source": [
    "On récupère un modèle très léger de detection fourni par ultralytics"
   ]
  },
  {
   "cell_type": "code",
   "execution_count": 2,
   "id": "6a63ded3-040f-4b3c-8c5c-5351768a2f08",
   "metadata": {},
   "outputs": [],
   "source": [
    "# model = YOLO(\"./resources/yolov8n.pt\")"
   ]
  },
  {
   "cell_type": "markdown",
   "id": "b10f3f43-4e73-46bf-9bd1-1c0e251a4743",
   "metadata": {},
   "source": [
    "## Entraînement"
   ]
  },
  {
   "cell_type": "markdown",
   "id": "e46f5d08-4dde-448e-b6d3-d5944524c230",
   "metadata": {},
   "source": [
    "Entraînement du modèle sur un dataset spécifiquement annoté pour la detection de visage via des bounding boxes.\n",
    "\n",
    "Le fichier \"dataset.yaml\" permet d'indiquer au modèle où se trouve les images d'entraînement, de validation et de test. Ainsi que les classes à detecter. Ici le but est de simplement detecter un visage humain."
   ]
  },
  {
   "cell_type": "code",
   "execution_count": 5,
   "id": "3bcd1613-9dba-4a9f-a567-81ca34ac5dfa",
   "metadata": {},
   "outputs": [],
   "source": [
    " # Train the model\n",
    "# results = model.train(data=\"./resources/visages/dataset.yaml\", epochs=10, imgsz=640)"
   ]
  },
  {
   "cell_type": "markdown",
   "id": "c2f3011c-3c60-4773-aac2-5ec22791bb02",
   "metadata": {},
   "source": [
    "## Test du modèle"
   ]
  },
  {
   "cell_type": "markdown",
   "id": "97637ee9-9bfa-4096-887e-e46ee7936fb9",
   "metadata": {},
   "source": [
    "On récupère le meilleur modèle de notre précedent entraînement."
   ]
  },
  {
   "cell_type": "code",
   "execution_count": 2,
   "id": "0b20bf01-c3cc-45f3-a6bb-6e3b19981972",
   "metadata": {},
   "outputs": [],
   "source": [
    "model = YOLO(\"./runs/detect/train11/weights/best.pt\")"
   ]
  },
  {
   "cell_type": "markdown",
   "id": "33be55c2-df54-499c-b414-cca5b658188a",
   "metadata": {},
   "source": [
    "On teste le modèle sur une image"
   ]
  },
  {
   "cell_type": "code",
   "execution_count": 6,
   "id": "ab38dcde-5b3f-496b-8d74-8c1e712893fb",
   "metadata": {},
   "outputs": [],
   "source": [
    "results = model('./resources/visages/test/frame_1572.jpg', visualize=True)"
   ]
  },
  {
   "cell_type": "code",
   "execution_count": 4,
   "id": "3703be51-033d-458b-a4d2-623a8549bc3a",
   "metadata": {},
   "outputs": [],
   "source": [
    "from PIL import Image\n",
    "for i, r in enumerate(results):\n",
    "    # Plot results image\n",
    "    im_bgr = r.plot()  # BGR-order numpy array\n",
    "    im_rgb = Image.fromarray(im_bgr[..., ::-1])  # RGB-order PIL image\n",
    "\n",
    "    # Show results to screen (in supported environments)\n",
    "    r.show()"
   ]
  },
  {
   "cell_type": "markdown",
   "id": "1263418d-6f96-4bfc-bbcf-297fee9347c4",
   "metadata": {},
   "source": [
    "On test le modèle sur une vidéo. \n",
    "\n",
    "A noter qu'il est préférable d'effectuer le test sur une petite vidéo, sinon cela demande pas mal de mémoire vive."
   ]
  },
  {
   "cell_type": "code",
   "execution_count": 2,
   "id": "e79ca896-f83c-4b35-b3fe-04651b56425a",
   "metadata": {},
   "outputs": [],
   "source": [
    "import cv2\n",
    "from ultralytics import YOLO\n",
    "\n",
    "# Load the YOLOv8 model\n",
    "model = YOLO(\"./runs/detect/train11/weights/best.pt\")\n",
    "\n",
    "# Open the video file\n",
    "video_path = \"./resources/visages/test/video.avi\"\n",
    "\n",
    "results = model.predict(source=video_path, save=True)\n"
   ]
  },
  {
   "cell_type": "markdown",
   "id": "9bb52b56-4310-49f8-9f1d-f0b69afbb4e4",
   "metadata": {},
   "source": [
    "## Coupler la detection avec un classifieur"
   ]
  },
  {
   "cell_type": "markdown",
   "id": "7bb8e638-70a5-4ef3-9682-b049d3f80fa8",
   "metadata": {},
   "source": [
    "Après avoir un modèle qui détecte les visages humain, l'idée est de déterminer quel est le personnage de fiction correspondant au visage détecter. Sans partir dans le domaine de la reconnaissance faciale, l'idée principale est simplement de pouvoir attribuer une classe plus précise à un objet détecté.\n",
    "\n",
    "Pour l'expérience, j'ai fait tourner le modèle de detection de visage sur une video d'un épisode de série. Toutes les box détectés par le modèle, j'en ai fait des images."
   ]
  },
  {
   "cell_type": "code",
   "execution_count": 4,
   "id": "108d32c2-a8aa-4d96-8c03-b805f6bd1a1d",
   "metadata": {},
   "outputs": [],
   "source": [
    "cap = cv2.VideoCapture(\"./resources/video2.avi\")\n",
    "length = int(cap.get(cv2.CAP_PROP_FRAME_COUNT))\n",
    "print( length )\n",
    "\n",
    "i = 0\n",
    "n = 0\n",
    "while cap.isOpened():\n",
    "    # Read video capture\n",
    "    ret, frame = cap.read()\n",
    "\n",
    "    results = model(frame, stream=True)\n",
    "    # coordinates\n",
    "    for r in results:\n",
    "        boxes = r.boxes\n",
    "\n",
    "        for box in boxes:\n",
    "            # bounding box\n",
    "            x1, y1, x2, y2 = box.xyxy[0]\n",
    "            x1, y1, x2, y2 = int(x1), int(y1), int(x2), int(y2) # convert to int values\n",
    "\n",
    "            cropped_image = frame[y1:y2,x1:x2]\n",
    "\n",
    "            # cv2.imshow(\"cropped\", cropped_image)\n",
    "            cv2.imwrite(f\"./resources/all-visages/i-{n}.jpg\", cropped_image)\n",
    "            n+=1    \n",
    "        \n",
    "    i+=1\n",
    "    print(i, \"/\", length)"
   ]
  },
  {
   "cell_type": "markdown",
   "id": "eb823fc0-5eb1-467e-bfa2-2c5247894148",
   "metadata": {},
   "source": [
    "Cela a généré plus de 60000 images. Pour classer toutes ces images en 3 classes : Eliot, Olivia et Inconnu j'ai utilisé un algorythme de Clustering (ou partitionnement des données) disponible dans le fichier kmeans.py. \n",
    "\n",
    "Cela va créer 50 répertoires avec un regroupement d'images similaires, cela permet d'aller beaucoup plus vite pour le tri des 60000 images."
   ]
  },
  {
   "cell_type": "markdown",
   "id": "348089de-b0e9-4e25-8d77-58bb3065b39d",
   "metadata": {},
   "source": [
    "Une fois les images séparées en 3 classes, on créé un classifieur standard que l'on enraîne avec YOLO."
   ]
  },
  {
   "cell_type": "markdown",
   "id": "64184099-5044-4e42-981c-cc8422c518c8",
   "metadata": {},
   "source": [
    "Maintenant que le classifieur est prêt on peut l'utiliser en complément de notre modèle de detection pour identifier chaque box."
   ]
  },
  {
   "cell_type": "code",
   "execution_count": null,
   "id": "4297bc50-e61a-4286-865d-3f70babeda0a",
   "metadata": {},
   "outputs": [],
   "source": [
    "model_classifier_visage = YOLO('./model-classifier-visage.pt')\n",
    "model = YOLO(\"./runs/detect/train-v8n/weights/best.pt\")\n",
    "\n",
    "cap = cv2.VideoCapture(\"./resources/video2.avi\")\n",
    "length = int(cap.get(cv2.CAP_PROP_FRAME_COUNT))\n",
    "\n",
    "i = 0\n",
    "n = 0\n",
    "while cap.isOpened():\n",
    "    # Read video capture\n",
    "    ret, frame = cap.read()\n",
    "\n",
    "    results = model(frame, stream=True)\n",
    "    # coordinates\n",
    "    for r in results:\n",
    "        boxes = r.boxes\n",
    "\n",
    "        for box in boxes:\n",
    "            # bounding box\n",
    "            x1, y1, x2, y2 = box.xyxy[0]\n",
    "            x1, y1, x2, y2 = int(x1), int(y1), int(x2), int(y2) # convert to int values\n",
    "\n",
    "            cropped_image = frame[y1:y2,x1:x2]\n",
    "\n",
    "            name_visage = \"\"\n",
    "            if cropped_image is not None:\n",
    "                results = model_classifier_visage(cropped_image)\n",
    "                for r in results:\n",
    "                    name_visage = model_classifier_visage.names[r.probs.top1]\n",
    "\n",
    "            # put box in cam\n",
    "            cv2.rectangle(frame, (x1, y1), (x2, y2), (255, 255, 255), 1)\n",
    "            org = [x1+5, y1+15]\n",
    "            font = cv2.FONT_HERSHEY_SIMPLEX\n",
    "            fontScale = 0.5\n",
    "            color = (255, 255, 255)\n",
    "            thickness = 1\n",
    "\n",
    "            cv2.putText(frame, str(name_visage), org, font, fontScale, color, thickness)\n",
    "            n+=1\n",
    "\n",
    "    # Display each frame\n",
    "    cv2.imshow(\"video\", frame)\n",
    "    # show one frame at a time\n",
    "    key = cv2.waitKey(0)\n",
    "    while key not in [ord('q'), ord('k')]:\n",
    "        key = cv2.waitKey(0)\n",
    "    # Quit when 'q' is pressed\n",
    "    if key == ord('q'):\n",
    "        break\n",
    "    i+=1\n",
    "    print(i, \"/\", length)"
   ]
  },
  {
   "cell_type": "markdown",
   "id": "74457967-3d34-434e-8334-b61ede4c59e2",
   "metadata": {},
   "source": [
    "## Exemples"
   ]
  },
  {
   "cell_type": "markdown",
   "id": "85192a41-3299-4c1a-ab84-480a7ebdd31a",
   "metadata": {},
   "source": [
    "<img src=\"./examples/01.png\" width=\"500\" />\n",
    "<img src=\"./examples/02.png\" width=\"500\" />\n",
    "<img src=\"./examples/03.png\" width=\"500\" />\n",
    "<img src=\"./examples/04.png\" width=\"500\" />\n",
    "<img src=\"./examples/05.png\" width=\"500\" />\n",
    "<img src=\"./examples/06.png\" width=\"500\" />\n",
    "<img src=\"./examples/07.png\" width=\"500\" />\n",
    "<img src=\"./examples/08.png\" width=\"500\" />\n",
    "<img src=\"./examples/09.png\" width=\"500\" />"
   ]
  }
 ],
 "metadata": {
  "kernelspec": {
   "display_name": "Python 3 (ipykernel)",
   "language": "python",
   "name": "python3"
  },
  "language_info": {
   "codemirror_mode": {
    "name": "ipython",
    "version": 3
   },
   "file_extension": ".py",
   "mimetype": "text/x-python",
   "name": "python",
   "nbconvert_exporter": "python",
   "pygments_lexer": "ipython3",
   "version": "3.12.3"
  }
 },
 "nbformat": 4,
 "nbformat_minor": 5
}
