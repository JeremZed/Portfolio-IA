{
 "cells": [
  {
   "cell_type": "markdown",
   "id": "7644fc40-3a8a-4771-9807-7fc86a5c2be8",
   "metadata": {},
   "source": [
    "# Classification d'images avec YOLO"
   ]
  },
  {
   "cell_type": "markdown",
   "id": "6d7642c5-7a40-4b06-9213-025db1f06216",
   "metadata": {},
   "source": [
    "Utilisation du modèle YOLO pour classifier les légumes."
   ]
  },
  {
   "cell_type": "code",
   "execution_count": 1,
   "id": "fb19ccb2-26f9-47fb-a814-17be46879226",
   "metadata": {},
   "outputs": [
    {
     "name": "stdout",
     "output_type": "stream",
     "text": [
      "New https://pypi.org/project/ultralytics/8.2.42 available 😃 Update with 'pip install -U ultralytics'\n",
      "Ultralytics YOLOv8.2.34 🚀 Python-3.12.3 torch-2.3.0+cu121 CUDA:0 (NVIDIA GeForce RTX 2060, 5919MiB)\n",
      "\u001b[34m\u001b[1mengine/trainer: \u001b[0mtask=classify, mode=train, model=./resources/yolov8n-cls.pt, data=./resources/dataset, epochs=10, time=None, patience=100, batch=16, imgsz=128, save=True, save_period=-1, cache=False, device=None, workers=8, project=None, name=train2, exist_ok=False, pretrained=True, optimizer=auto, verbose=True, seed=0, deterministic=True, single_cls=False, rect=False, cos_lr=False, close_mosaic=10, resume=False, amp=True, fraction=1.0, profile=False, freeze=None, multi_scale=False, overlap_mask=True, mask_ratio=4, dropout=0.0, val=True, split=val, save_json=False, save_hybrid=False, conf=None, iou=0.7, max_det=300, half=False, dnn=False, plots=True, source=None, vid_stride=1, stream_buffer=False, visualize=False, augment=False, agnostic_nms=False, classes=None, retina_masks=False, embed=None, show=False, save_frames=False, save_txt=False, save_conf=False, save_crop=False, show_labels=True, show_conf=True, show_boxes=True, line_width=None, format=torchscript, keras=False, optimize=False, int8=False, dynamic=False, simplify=False, opset=None, workspace=4, nms=False, lr0=0.01, lrf=0.01, momentum=0.937, weight_decay=0.0005, warmup_epochs=3.0, warmup_momentum=0.8, warmup_bias_lr=0.1, box=7.5, cls=0.5, dfl=1.5, pose=12.0, kobj=1.0, label_smoothing=0.0, nbs=64, hsv_h=0.015, hsv_s=0.7, hsv_v=0.4, degrees=0.0, translate=0.1, scale=0.5, shear=0.0, perspective=0.0, flipud=0.0, fliplr=0.5, bgr=0.0, mosaic=1.0, mixup=0.0, copy_paste=0.0, auto_augment=randaugment, erasing=0.4, crop_fraction=1.0, cfg=None, tracker=botsort.yaml, save_dir=runs/classify/train2\n",
      "\u001b[34m\u001b[1mtrain:\u001b[0m /home/jeremy/Lab/repo/Portfolio-IA/Yolo/resources/dataset/train... found 37800 images in 15 classes ✅ \n",
      "\u001b[34m\u001b[1mval:\u001b[0m /home/jeremy/Lab/repo/Portfolio-IA/Yolo/resources/dataset/val... found 3150 images in 15 classes ✅ \n",
      "\u001b[34m\u001b[1mtest:\u001b[0m /home/jeremy/Lab/repo/Portfolio-IA/Yolo/resources/dataset/test... found 5250 images in 15 classes ✅ \n",
      "Overriding model.yaml nc=1000 with nc=15\n",
      "\n",
      "                   from  n    params  module                                       arguments                     \n",
      "  0                  -1  1       464  ultralytics.nn.modules.conv.Conv             [3, 16, 3, 2]                 \n",
      "  1                  -1  1      4672  ultralytics.nn.modules.conv.Conv             [16, 32, 3, 2]                \n",
      "  2                  -1  1      7360  ultralytics.nn.modules.block.C2f             [32, 32, 1, True]             \n",
      "  3                  -1  1     18560  ultralytics.nn.modules.conv.Conv             [32, 64, 3, 2]                \n",
      "  4                  -1  2     49664  ultralytics.nn.modules.block.C2f             [64, 64, 2, True]             \n",
      "  5                  -1  1     73984  ultralytics.nn.modules.conv.Conv             [64, 128, 3, 2]               \n",
      "  6                  -1  2    197632  ultralytics.nn.modules.block.C2f             [128, 128, 2, True]           \n",
      "  7                  -1  1    295424  ultralytics.nn.modules.conv.Conv             [128, 256, 3, 2]              \n",
      "  8                  -1  1    460288  ultralytics.nn.modules.block.C2f             [256, 256, 1, True]           \n",
      "  9                  -1  1    349455  ultralytics.nn.modules.head.Classify         [256, 15]                     \n",
      "YOLOv8n-cls summary: 99 layers, 1457503 parameters, 1457503 gradients, 3.4 GFLOPs\n",
      "Transferred 156/158 items from pretrained weights\n",
      "\u001b[34m\u001b[1mTensorBoard: \u001b[0mStart with 'tensorboard --logdir runs/classify/train2', view at http://localhost:6006/\n",
      "\u001b[34m\u001b[1mAMP: \u001b[0mrunning Automatic Mixed Precision (AMP) checks with YOLOv8n...\n"
     ]
    },
    {
     "name": "stderr",
     "output_type": "stream",
     "text": [
      "/home/jeremy/Lab/miniconda3/envs/NN/lib/python3.12/site-packages/torch/nn/modules/conv.py:456: UserWarning: Plan failed with a cudnnException: CUDNN_BACKEND_EXECUTION_PLAN_DESCRIPTOR: cudnnFinalize Descriptor Failed cudnn_status: CUDNN_STATUS_NOT_SUPPORTED (Triggered internally at ../aten/src/ATen/native/cudnn/Conv_v8.cpp:919.)\n",
      "  return F.conv2d(input, weight, bias, self.stride,\n"
     ]
    },
    {
     "name": "stdout",
     "output_type": "stream",
     "text": [
      "\u001b[34m\u001b[1mAMP: \u001b[0mchecks passed ✅\n"
     ]
    },
    {
     "name": "stderr",
     "output_type": "stream",
     "text": [
      "\u001b[34m\u001b[1mtrain: \u001b[0mScanning /home/jeremy/Lab/repo/Portfolio-IA/Yolo/resources/dataset/train... 37800 images, 0 corrupt: 100%|██████████| 37800/37800 [00:11<00:00, 3359.67it/s]\u001b[0m\n"
     ]
    },
    {
     "name": "stdout",
     "output_type": "stream",
     "text": [
      "\u001b[34m\u001b[1mtrain: \u001b[0mNew cache created: /home/jeremy/Lab/repo/Portfolio-IA/Yolo/resources/dataset/train.cache\n"
     ]
    },
    {
     "name": "stderr",
     "output_type": "stream",
     "text": [
      "\u001b[34m\u001b[1mval: \u001b[0mScanning /home/jeremy/Lab/repo/Portfolio-IA/Yolo/resources/dataset/val... 3150 images, 0 corrupt: 100%|██████████| 3150/3150 [00:00<00:00, 4676.09it/s]\u001b[0m"
     ]
    },
    {
     "name": "stdout",
     "output_type": "stream",
     "text": [
      "\u001b[34m\u001b[1mval: \u001b[0mNew cache created: /home/jeremy/Lab/repo/Portfolio-IA/Yolo/resources/dataset/val.cache\n"
     ]
    },
    {
     "name": "stderr",
     "output_type": "stream",
     "text": [
      "\n"
     ]
    },
    {
     "name": "stdout",
     "output_type": "stream",
     "text": [
      "\u001b[34m\u001b[1moptimizer:\u001b[0m 'optimizer=auto' found, ignoring 'lr0=0.01' and 'momentum=0.937' and determining best 'optimizer', 'lr0' and 'momentum' automatically... \n",
      "\u001b[34m\u001b[1moptimizer:\u001b[0m AdamW(lr=0.000714, momentum=0.9) with parameter groups 26 weight(decay=0.0), 27 weight(decay=0.0005), 27 bias(decay=0.0)\n",
      "\u001b[34m\u001b[1mTensorBoard: \u001b[0mmodel graph visualization added ✅\n",
      "Image sizes 128 train, 128 val\n",
      "Using 8 dataloader workers\n",
      "Logging results to \u001b[1mruns/classify/train2\u001b[0m\n",
      "Starting training for 10 epochs...\n",
      "\n",
      "      Epoch    GPU_mem       loss  Instances       Size\n"
     ]
    },
    {
     "name": "stderr",
     "output_type": "stream",
     "text": [
      "       1/10     0.401G      1.072          8        128: 100%|██████████| 2363/2363 [00:50<00:00, 46.37it/s]\n",
      "               classes   top1_acc   top5_acc: 100%|██████████| 99/99 [00:00<00:00, 155.89it/s]"
     ]
    },
    {
     "name": "stdout",
     "output_type": "stream",
     "text": [
      "                   all      0.985      0.999\n"
     ]
    },
    {
     "name": "stderr",
     "output_type": "stream",
     "text": [
      "\n"
     ]
    },
    {
     "name": "stdout",
     "output_type": "stream",
     "text": [
      "\n",
      "      Epoch    GPU_mem       loss  Instances       Size\n"
     ]
    },
    {
     "name": "stderr",
     "output_type": "stream",
     "text": [
      "       2/10      0.38G     0.3834          8        128: 100%|██████████| 2363/2363 [00:50<00:00, 47.10it/s]\n",
      "               classes   top1_acc   top5_acc: 100%|██████████| 99/99 [00:00<00:00, 196.04it/s]"
     ]
    },
    {
     "name": "stdout",
     "output_type": "stream",
     "text": [
      "                   all      0.992          1\n"
     ]
    },
    {
     "name": "stderr",
     "output_type": "stream",
     "text": [
      "\n"
     ]
    },
    {
     "name": "stdout",
     "output_type": "stream",
     "text": [
      "\n",
      "      Epoch    GPU_mem       loss  Instances       Size\n"
     ]
    },
    {
     "name": "stderr",
     "output_type": "stream",
     "text": [
      "       3/10      0.38G     0.3027          8        128: 100%|██████████| 2363/2363 [00:52<00:00, 44.93it/s]\n",
      "               classes   top1_acc   top5_acc: 100%|██████████| 99/99 [00:00<00:00, 192.62it/s]"
     ]
    },
    {
     "name": "stdout",
     "output_type": "stream",
     "text": [
      "                   all       0.99          1\n"
     ]
    },
    {
     "name": "stderr",
     "output_type": "stream",
     "text": [
      "\n"
     ]
    },
    {
     "name": "stdout",
     "output_type": "stream",
     "text": [
      "\n",
      "      Epoch    GPU_mem       loss  Instances       Size\n"
     ]
    },
    {
     "name": "stderr",
     "output_type": "stream",
     "text": [
      "       4/10      0.38G     0.2557          8        128: 100%|██████████| 2363/2363 [00:54<00:00, 43.25it/s]\n",
      "               classes   top1_acc   top5_acc: 100%|██████████| 99/99 [00:00<00:00, 178.37it/s]"
     ]
    },
    {
     "name": "stdout",
     "output_type": "stream",
     "text": [
      "                   all      0.993          1\n"
     ]
    },
    {
     "name": "stderr",
     "output_type": "stream",
     "text": [
      "\n"
     ]
    },
    {
     "name": "stdout",
     "output_type": "stream",
     "text": [
      "\n",
      "      Epoch    GPU_mem       loss  Instances       Size\n"
     ]
    },
    {
     "name": "stderr",
     "output_type": "stream",
     "text": [
      "       5/10      0.38G      0.212          8        128: 100%|██████████| 2363/2363 [00:52<00:00, 45.27it/s]\n",
      "               classes   top1_acc   top5_acc: 100%|██████████| 99/99 [00:00<00:00, 190.96it/s]"
     ]
    },
    {
     "name": "stdout",
     "output_type": "stream",
     "text": [
      "                   all      0.995          1\n"
     ]
    },
    {
     "name": "stderr",
     "output_type": "stream",
     "text": [
      "\n"
     ]
    },
    {
     "name": "stdout",
     "output_type": "stream",
     "text": [
      "\n",
      "      Epoch    GPU_mem       loss  Instances       Size\n"
     ]
    },
    {
     "name": "stderr",
     "output_type": "stream",
     "text": [
      "       6/10      0.38G     0.1805          8        128: 100%|██████████| 2363/2363 [00:51<00:00, 46.16it/s]\n",
      "               classes   top1_acc   top5_acc: 100%|██████████| 99/99 [00:00<00:00, 179.94it/s]"
     ]
    },
    {
     "name": "stdout",
     "output_type": "stream",
     "text": [
      "                   all      0.997          1\n"
     ]
    },
    {
     "name": "stderr",
     "output_type": "stream",
     "text": [
      "\n"
     ]
    },
    {
     "name": "stdout",
     "output_type": "stream",
     "text": [
      "\n",
      "      Epoch    GPU_mem       loss  Instances       Size\n"
     ]
    },
    {
     "name": "stderr",
     "output_type": "stream",
     "text": [
      "       7/10      0.38G     0.1611          8        128: 100%|██████████| 2363/2363 [00:50<00:00, 46.55it/s]\n",
      "               classes   top1_acc   top5_acc: 100%|██████████| 99/99 [00:00<00:00, 208.22it/s]"
     ]
    },
    {
     "name": "stdout",
     "output_type": "stream",
     "text": [
      "                   all      0.994          1\n"
     ]
    },
    {
     "name": "stderr",
     "output_type": "stream",
     "text": [
      "\n"
     ]
    },
    {
     "name": "stdout",
     "output_type": "stream",
     "text": [
      "\n",
      "      Epoch    GPU_mem       loss  Instances       Size\n"
     ]
    },
    {
     "name": "stderr",
     "output_type": "stream",
     "text": [
      "       8/10      0.38G     0.1424          8        128: 100%|██████████| 2363/2363 [00:51<00:00, 46.28it/s]\n",
      "               classes   top1_acc   top5_acc: 100%|██████████| 99/99 [00:00<00:00, 207.19it/s]"
     ]
    },
    {
     "name": "stdout",
     "output_type": "stream",
     "text": [
      "                   all      0.997          1\n"
     ]
    },
    {
     "name": "stderr",
     "output_type": "stream",
     "text": [
      "\n"
     ]
    },
    {
     "name": "stdout",
     "output_type": "stream",
     "text": [
      "\n",
      "      Epoch    GPU_mem       loss  Instances       Size\n"
     ]
    },
    {
     "name": "stderr",
     "output_type": "stream",
     "text": [
      "       9/10      0.38G      0.128          8        128: 100%|██████████| 2363/2363 [00:54<00:00, 43.34it/s]\n",
      "               classes   top1_acc   top5_acc: 100%|██████████| 99/99 [00:00<00:00, 200.96it/s]"
     ]
    },
    {
     "name": "stdout",
     "output_type": "stream",
     "text": [
      "                   all      0.996          1\n"
     ]
    },
    {
     "name": "stderr",
     "output_type": "stream",
     "text": [
      "\n"
     ]
    },
    {
     "name": "stdout",
     "output_type": "stream",
     "text": [
      "\n",
      "      Epoch    GPU_mem       loss  Instances       Size\n"
     ]
    },
    {
     "name": "stderr",
     "output_type": "stream",
     "text": [
      "      10/10      0.38G     0.1141          8        128: 100%|██████████| 2363/2363 [00:50<00:00, 47.24it/s]\n",
      "               classes   top1_acc   top5_acc: 100%|██████████| 99/99 [00:00<00:00, 198.10it/s]"
     ]
    },
    {
     "name": "stdout",
     "output_type": "stream",
     "text": [
      "                   all      0.997          1\n"
     ]
    },
    {
     "name": "stderr",
     "output_type": "stream",
     "text": [
      "\n"
     ]
    },
    {
     "name": "stdout",
     "output_type": "stream",
     "text": [
      "\n",
      "10 epochs completed in 0.147 hours.\n",
      "Optimizer stripped from runs/classify/train2/weights/last.pt, 3.0MB\n",
      "Optimizer stripped from runs/classify/train2/weights/best.pt, 3.0MB\n",
      "\n",
      "Validating runs/classify/train2/weights/best.pt...\n",
      "Ultralytics YOLOv8.2.34 🚀 Python-3.12.3 torch-2.3.0+cu121 CUDA:0 (NVIDIA GeForce RTX 2060, 5919MiB)\n",
      "YOLOv8n-cls summary (fused): 73 layers, 1454095 parameters, 0 gradients, 3.3 GFLOPs\n",
      "\u001b[34m\u001b[1mtrain:\u001b[0m /home/jeremy/Lab/repo/Portfolio-IA/Yolo/resources/dataset/train... found 37800 images in 15 classes ✅ \n",
      "\u001b[34m\u001b[1mval:\u001b[0m /home/jeremy/Lab/repo/Portfolio-IA/Yolo/resources/dataset/val... found 3150 images in 15 classes ✅ \n",
      "\u001b[34m\u001b[1mtest:\u001b[0m /home/jeremy/Lab/repo/Portfolio-IA/Yolo/resources/dataset/test... found 5250 images in 15 classes ✅ \n"
     ]
    },
    {
     "name": "stderr",
     "output_type": "stream",
     "text": [
      "               classes   top1_acc   top5_acc: 100%|██████████| 99/99 [00:00<00:00, 187.52it/s]\n"
     ]
    },
    {
     "name": "stdout",
     "output_type": "stream",
     "text": [
      "                   all      0.997          1\n",
      "Speed: 0.0ms preprocess, 0.1ms inference, 0.0ms loss, 0.0ms postprocess per image\n",
      "Results saved to \u001b[1mruns/classify/train2\u001b[0m\n",
      "Results saved to \u001b[1mruns/classify/train2\u001b[0m\n"
     ]
    }
   ],
   "source": [
    "from ultralytics import YOLO\n",
    "\n",
    "# Load a model\n",
    "model = YOLO(\"./resources/yolov8n-cls.pt\")  # load a pretrained model (recommended for training)\n",
    "\n",
    "# # Train the model\n",
    "results = model.train(data=\"./resources/dataset\", epochs=10, imgsz=128)"
   ]
  },
  {
   "cell_type": "code",
   "execution_count": 2,
   "id": "3a3c12cf-791c-47ae-b9b4-930275235208",
   "metadata": {},
   "outputs": [],
   "source": [
    "model = YOLO(\"./runs/classify/train/weights/best.pt\")"
   ]
  },
  {
   "cell_type": "code",
   "execution_count": 3,
   "id": "10bd7f7b-7ff3-4bff-84bc-5e51161dff19",
   "metadata": {},
   "outputs": [
    {
     "name": "stdout",
     "output_type": "stream",
     "text": [
      "Ultralytics YOLOv8.2.34 🚀 Python-3.12.3 torch-2.3.0+cu121 CUDA:0 (NVIDIA GeForce RTX 2060, 5919MiB)\n",
      "YOLOv8n-cls summary (fused): 73 layers, 1454095 parameters, 0 gradients, 3.3 GFLOPs\n",
      "\u001b[34m\u001b[1mtrain:\u001b[0m /home/jeremy/Lab/repo/Portfolio-IA/Yolo/resources/dataset/train... found 37800 images in 15 classes ✅ \n",
      "\u001b[34m\u001b[1mval:\u001b[0m /home/jeremy/Lab/repo/Portfolio-IA/Yolo/resources/dataset/val... found 3150 images in 15 classes ✅ \n",
      "\u001b[34m\u001b[1mtest:\u001b[0m /home/jeremy/Lab/repo/Portfolio-IA/Yolo/resources/dataset/test... found 5250 images in 15 classes ✅ \n"
     ]
    },
    {
     "name": "stderr",
     "output_type": "stream",
     "text": [
      "\u001b[34m\u001b[1mval: \u001b[0mScanning /home/jeremy/Lab/repo/Portfolio-IA/Yolo/resources/dataset/val... 3150 images, 0 corrupt: 100%|██████████| 3150/3150 [00:00<?, ?it/s]\u001b[0m\n",
      "               classes   top1_acc   top5_acc: 100%|██████████| 197/197 [00:00<00:00, 210.13it/s]\n"
     ]
    },
    {
     "name": "stdout",
     "output_type": "stream",
     "text": [
      "                   all      0.994          1\n",
      "Speed: 0.0ms preprocess, 0.2ms inference, 0.0ms loss, 0.0ms postprocess per image\n",
      "Results saved to \u001b[1mruns/classify/val\u001b[0m\n"
     ]
    },
    {
     "data": {
      "text/plain": [
       "0.9996825456619263"
      ]
     },
     "execution_count": 3,
     "metadata": {},
     "output_type": "execute_result"
    }
   ],
   "source": [
    "# Validate the model\n",
    "metrics = model.val()  # no arguments needed, dataset and settings remembered\n",
    "metrics.top1  # top1 accuracy\n",
    "metrics.top5  # top5 accuracy"
   ]
  },
  {
   "cell_type": "code",
   "execution_count": 6,
   "id": "89165e8e-5fda-4edc-8ca9-5b8def23f3a0",
   "metadata": {},
   "outputs": [
    {
     "name": "stdout",
     "output_type": "stream",
     "text": [
      "\n",
      "image 1/1 /home/jeremy/Lab/repo/Portfolio-IA/Yolo/resources/dataset/test/Radish/0041.jpg: 128x128 Radish 1.00, Potato 0.00, Carrot 0.00, Tomato 0.00, Brinjal 0.00, 2.6ms\n",
      "Speed: 3.5ms preprocess, 2.6ms inference, 0.0ms postprocess per image at shape (1, 3, 128, 128)\n",
      "ultralytics.engine.results.Probs object with attributes:\n",
      "\n",
      "data: tensor([5.5214e-07, 3.7922e-07, 1.2041e-05, 1.3344e-05, 3.2947e-06, 5.2060e-07, 6.5451e-07, 3.6592e-05, 4.8698e-07, 2.9003e-06, 1.9688e-06, 8.5704e-05, 7.3099e-07, 9.9983e-01, 1.5360e-05], device='cuda:0')\n",
      "orig_shape: None\n",
      "shape: torch.Size([15])\n",
      "top1: 13\n",
      "top1conf: tensor(0.9998, device='cuda:0')\n",
      "top5: [13, 11, 7, 14, 3]\n",
      "top5conf: tensor([9.9983e-01, 8.5704e-05, 3.6592e-05, 1.5360e-05, 1.3344e-05], device='cuda:0')\n"
     ]
    }
   ],
   "source": [
    "results = model('./resources/dataset/test/Radish/0041.jpg', visualize=False)\n",
    "for r in results:\n",
    "    print(r.probs)  # print the Probs object containing the detected class probabilities"
   ]
  },
  {
   "cell_type": "code",
   "execution_count": 7,
   "id": "d60756e8-8336-4a32-bb3d-4a18a484ca88",
   "metadata": {},
   "outputs": [],
   "source": [
    "from PIL import Image\n",
    "for i, r in enumerate(results):\n",
    "    # Plot results image\n",
    "    im_bgr = r.plot()  # BGR-order numpy array\n",
    "    im_rgb = Image.fromarray(im_bgr[..., ::-1])  # RGB-order PIL image\n",
    "\n",
    "    # Show results to screen (in supported environments)\n",
    "    r.show()\n",
    "\n",
    "    # Save results to disk\n",
    "    #r.save(filename=f\"results{i}.jpg\")"
   ]
  }
 ],
 "metadata": {
  "kernelspec": {
   "display_name": "Python 3 (ipykernel)",
   "language": "python",
   "name": "python3"
  },
  "language_info": {
   "codemirror_mode": {
    "name": "ipython",
    "version": 3
   },
   "file_extension": ".py",
   "mimetype": "text/x-python",
   "name": "python",
   "nbconvert_exporter": "python",
   "pygments_lexer": "ipython3",
   "version": "3.12.3"
  }
 },
 "nbformat": 4,
 "nbformat_minor": 5
}
